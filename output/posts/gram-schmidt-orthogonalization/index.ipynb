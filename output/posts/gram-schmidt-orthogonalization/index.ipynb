{
 "cells": [
  {
   "cell_type": "markdown",
   "metadata": {},
   "source": [
    "# Gram-Schmidt 正交化方法\n"
   ]
  },
  {
   "cell_type": "markdown",
   "metadata": {},
   "source": [
    "把一组向量正交化的常用方法就是 Gram-Schmidt 正交化过程。\n",
    "这个过程基于投影\n",
    "$$\n",
    "\\mathrm{proj}_u(v) = \\frac{\\langle u,v \\rangle}{\\langle u , u \\rangle} u\n",
    "$$\n",
    "每一次迭代得到一个与之前所有矢量都正交的新矢量\n",
    "$$\n",
    "\\begin{array}{lll}\n",
    "b_1 &=& a_1 \\\\\n",
    "b_2 &=& a_2 - \\mathrm{proj}_{b_1}(a_2) \\\\\n",
    "b_3 &=& a_3 - \\mathrm{proj}_{b_1}(a_3) - \\mathrm{proj}_{b_2}(a_3) \\\\\n",
    "b_k &=& a_k - \\sum_{i=1}^{k-1}\\mathrm{proj}_{b_i}(a_k)\n",
    "\\end{array}\n",
    "$$"
   ]
  },
  {
   "cell_type": "code",
   "execution_count": 1,
   "metadata": {},
   "outputs": [],
   "source": [
    "import numpy as np"
   ]
  },
  {
   "cell_type": "code",
   "execution_count": 2,
   "metadata": {},
   "outputs": [],
   "source": [
    "def proj(u, v, do_norm=False):\n",
    "    if do_norm:\n",
    "        result = np.vdot(u,v) / np.linalg.norm(u,u) * u\n",
    "    else:\n",
    "        result = np.vdot(u,v) * u\n",
    "    return result.flatten()"
   ]
  },
  {
   "cell_type": "code",
   "execution_count": 3,
   "metadata": {},
   "outputs": [],
   "source": [
    "def gram_schmidt(A):\n",
    "    b = A.copy()\n",
    "    b[:,0] = b[:,0] / np.linalg.norm(b[:,0])\n",
    "    for i in range(1, A.shape[1]):\n",
    "        b[:,i] = (b[:,i] \n",
    "                  - np.sum(np.apply_along_axis(\n",
    "                      lambda u: proj(u, b[:,i]), \n",
    "                      0, \n",
    "                      b[:,:i]),\n",
    "                           axis=1).flatten())\n",
    "        b[:,i] = b[:,i] / np.linalg.norm(b[:,i])\n",
    "    return b"
   ]
  },
  {
   "cell_type": "code",
   "execution_count": 4,
   "metadata": {},
   "outputs": [],
   "source": [
    "a = np.random.rand(4,4)\n",
    "b = gram_schmidt(a)"
   ]
  },
  {
   "cell_type": "code",
   "execution_count": 5,
   "metadata": {},
   "outputs": [
    {
     "name": "stdout",
     "output_type": "stream",
     "text": [
      "True\n",
      "True\n",
      "True\n",
      "True\n",
      "True\n",
      "True\n"
     ]
    }
   ],
   "source": [
    "from itertools import combinations\n",
    "for i,j in combinations(range(4),2):\n",
    "    print(np.isclose(b[:,i] @ b[:,j], 0))"
   ]
  },
  {
   "cell_type": "code",
   "execution_count": null,
   "metadata": {},
   "outputs": [],
   "source": []
  }
 ],
 "metadata": {
  "kernelspec": {
   "display_name": "Python 3",
   "language": "python",
   "name": "python3"
  },
  "language_info": {
   "codemirror_mode": {
    "name": "ipython",
    "version": 3
   },
   "file_extension": ".py",
   "mimetype": "text/x-python",
   "name": "python",
   "nbconvert_exporter": "python",
   "pygments_lexer": "ipython3",
   "version": "3.9.1"
  },
  "nikola": {
   "category": "Algorithm",
   "date": "2020-12-19 16:11:37 UTC+08:00",
   "description": "",
   "link": "",
   "slug": "gram-schmidt-orthogonalization",
   "tags": "Numerical Algorithm,Linear Algebra",
   "title": "Gram-Schmidt Orthogonalization",
   "type": "text"
  }
 },
 "nbformat": 4,
 "nbformat_minor": 4
}
