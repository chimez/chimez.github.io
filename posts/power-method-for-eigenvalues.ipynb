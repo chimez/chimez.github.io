{
 "cells": [
  {
   "cell_type": "markdown",
   "metadata": {},
   "source": [
    "# 幂法：矩阵本征值迭代求解的基本方法"
   ]
  },
  {
   "cell_type": "markdown",
   "metadata": {},
   "source": [
    "## 基本的幂法：求矩阵的最大本征值\n",
    "$$\n",
    "Ax^{(k)} = x^{(k+1)}\n",
    "$$\n",
    "\n",
    "只要把任何一个初始随机向量反复地被一个矩阵作用，同时除以一个足够大的数保证不超过数值精度，那么最终的收敛结果就是矩阵的最大本征矢。\n",
    "\n",
    "这种方法可行的原因是，矩阵可以看做是一个线性变换，对任何一个向量连续地作用同一个变换的结果，总是会让这个向量趋近于变换的主向量，也就是矩阵的最大本征值对应的本征矢。"
   ]
  },
  {
   "cell_type": "code",
   "execution_count": 1,
   "metadata": {},
   "outputs": [],
   "source": [
    "import numpy as np"
   ]
  },
  {
   "cell_type": "code",
   "execution_count": 2,
   "metadata": {},
   "outputs": [],
   "source": [
    "def power_iteration(A, num_simulations: int, v0=None):\n",
    "    if v0 is None:\n",
    "        v = np.random.rand(A.shape[1])\n",
    "    else: \n",
    "        v = v0\n",
    "        \n",
    "    for _ in range(num_simulations):     \n",
    "        v = A @ v / np.max(v)\n",
    "    return v"
   ]
  },
  {
   "cell_type": "code",
   "execution_count": 3,
   "metadata": {},
   "outputs": [
    {
     "data": {
      "text/plain": [
       "((2.1973691032607885+0j),\n",
       " array([0.54317076+0.j, 0.56821252+0.j, 0.28769568+0.j, 0.54711174+0.j]))"
      ]
     },
     "execution_count": 3,
     "metadata": {},
     "output_type": "execute_result"
    }
   ],
   "source": [
    "a = np.random.rand(4,4)\n",
    "e2,v2=np.linalg.eig(a)\n",
    "ei2 = e2.argmax()\n",
    "e2[ei2], v2[:,ei2] / np.linalg.norm(v2[:,ei2])"
   ]
  },
  {
   "cell_type": "code",
   "execution_count": 4,
   "metadata": {},
   "outputs": [
    {
     "data": {
      "text/plain": [
       "(2.197369103260788, array([0.54317076, 0.56821252, 0.28769568, 0.54711174]))"
      ]
     },
     "execution_count": 4,
     "metadata": {},
     "output_type": "execute_result"
    }
   ],
   "source": [
    "v1 = power_iteration(a, 1000)\n",
    "(a @ v1 / v1)[0], v1/ np.linalg.norm(v1)"
   ]
  },
  {
   "cell_type": "markdown",
   "metadata": {},
   "source": [
    "## 反幂法：求矩阵的最小本征矢\n",
    "与幂法完全相同，只不过迭代的是矩阵的逆，显然矩阵的逆的最大本征值就是原矩阵的模最小的本征值。\n",
    "$$\n",
    "A^{-1}x^{(k)} = x^{(k+1)}\n",
    "$$\n",
    "不过由于矩阵求逆计算复杂度很大，可以把它转化成求线性方程组：\n",
    "$$\n",
    "A x^{(k+1)} = x^{(k)}\n",
    "$$"
   ]
  },
  {
   "cell_type": "code",
   "execution_count": 5,
   "metadata": {},
   "outputs": [],
   "source": [
    "def inverse_power_iteration(A, num_simulations: int, v0=None):\n",
    "    if v0 is None:\n",
    "        v = np.random.rand(A.shape[1])\n",
    "    else: \n",
    "        v = v0\n",
    "        \n",
    "    for _ in range(num_simulations):  \n",
    "        v = np.linalg.solve(A, v) \n",
    "        # v = np.linalg.inv(A) @ v\n",
    "        v = v / np.max(v)\n",
    "    return v\n",
    "    "
   ]
  },
  {
   "cell_type": "code",
   "execution_count": 6,
   "metadata": {},
   "outputs": [
    {
     "data": {
      "text/plain": [
       "(0.0934634074161824,\n",
       " array([ 0.06236468, -0.34577788,  0.87179586, -0.34135067]))"
      ]
     },
     "execution_count": 6,
     "metadata": {},
     "output_type": "execute_result"
    }
   ],
   "source": [
    "a = np.random.rand(4,4)\n",
    "e2,v2=np.linalg.eig(a)\n",
    "ei2 = np.abs(e2).argmin()\n",
    "e2[ei2], v2[:,ei2] / np.linalg.norm(v2[:,ei2])"
   ]
  },
  {
   "cell_type": "code",
   "execution_count": 7,
   "metadata": {},
   "outputs": [
    {
     "data": {
      "text/plain": [
       "(0.09346340741618211,\n",
       " array([ 0.06236468, -0.34577788,  0.87179586, -0.34135067]))"
      ]
     },
     "execution_count": 7,
     "metadata": {},
     "output_type": "execute_result"
    }
   ],
   "source": [
    "v1 = inverse_power_iteration(a, 1000)\n",
    "1/ (np.linalg.inv(a) @ v1 / v1)[0], v1/ np.linalg.norm(v1)"
   ]
  },
  {
   "cell_type": "code",
   "execution_count": null,
   "metadata": {},
   "outputs": [],
   "source": []
  }
 ],
 "metadata": {
  "kernelspec": {
   "display_name": "Python 3",
   "language": "python",
   "name": "python3"
  },
  "language_info": {
   "codemirror_mode": {
    "name": "ipython",
    "version": 3
   },
   "file_extension": ".py",
   "mimetype": "text/x-python",
   "name": "python",
   "nbconvert_exporter": "python",
   "pygments_lexer": "ipython3",
   "version": "3.9.1"
  },
  "nikola": {
   "category": "Algorithm",
   "date": "2020-12-19 15:20:52 UTC+08:00",
   "description": "",
   "link": "",
   "slug": "power-method-for-eigenvalues",
   "tags": "Numerical Algorithm,Linear Algebra",
   "title": "Power Method for Eigenvalues",
   "type": "text"
  }
 },
 "nbformat": 4,
 "nbformat_minor": 4
}
